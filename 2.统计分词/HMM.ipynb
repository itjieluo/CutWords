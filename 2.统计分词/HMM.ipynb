{
 "cells": [
  {
   "cell_type": "markdown",
   "metadata": {},
   "source": [
    "# HMM+viterbi分词"
   ]
  },
  {
   "cell_type": "markdown",
   "metadata": {},
   "source": [
    "* 定义训练数据目录\n",
    "* 定义变量\n",
    "* 定义HMM参数"
   ]
  },
  {
   "cell_type": "code",
   "execution_count": 2,
   "metadata": {},
   "outputs": [],
   "source": [
    "INPUT_DATA = \"RenMinData.txt_utf8\"#训练数据集\n",
    "\n",
    "word_set = set()#词集合\n",
    "line_num = -1#训练语料行数计数\n",
    "Count_dic = {}#统计状态出现的词数\n",
    "\n",
    "A_dic = {}#状态转移概率(状态->状态的条件概率)\n",
    "B_dic = {}#发射概率(状态->c词的条件概率)\n",
    "Pi_dic = {}#状态的初始概率\n",
    "state_list = ['B','M','E','S']#状态值集合"
   ]
  },
  {
   "cell_type": "markdown",
   "metadata": {},
   "source": [
    "### 初始化HMM参数:\n",
    "\n",
    "* 状态转移矩阵：A_dic\n",
    "* 发射矩阵：B_dic\n",
    "* 初始状态：Pi_dic\n",
    "* 字频统计器：Count_dic"
   ]
  },
  {
   "cell_type": "code",
   "execution_count": 3,
   "metadata": {},
   "outputs": [],
   "source": [
    "def init():\n",
    "    \"\"\"\n",
    "    初始化状态转移矩阵、发射矩阵、初始状态矩阵和状态统计词数变量\n",
    "    \"\"\"\n",
    "    for state in state_list:\n",
    "        A_dic[state] = {}\n",
    "        for state1 in state_list:\n",
    "            A_dic[state][state1] = 0.0\n",
    "    for state in state_list:\n",
    "        Pi_dic[state] = 0.0\n",
    "        B_dic[state] = {}\n",
    "        Count_dic[state] = 0"
   ]
  },
  {
   "cell_type": "code",
   "execution_count": 4,
   "metadata": {},
   "outputs": [
    {
     "data": {
      "text/plain": [
       "{}"
      ]
     },
     "execution_count": 4,
     "metadata": {},
     "output_type": "execute_result"
    }
   ],
   "source": [
    "A_dic"
   ]
  },
  {
   "cell_type": "code",
   "execution_count": 6,
   "metadata": {},
   "outputs": [],
   "source": [
    "init()"
   ]
  },
  {
   "cell_type": "code",
   "execution_count": 7,
   "metadata": {},
   "outputs": [
    {
     "data": {
      "text/plain": [
       "{'B': {'B': 0.0, 'M': 0.0, 'E': 0.0, 'S': 0.0},\n",
       " 'M': {'B': 0.0, 'M': 0.0, 'E': 0.0, 'S': 0.0},\n",
       " 'E': {'B': 0.0, 'M': 0.0, 'E': 0.0, 'S': 0.0},\n",
       " 'S': {'B': 0.0, 'M': 0.0, 'E': 0.0, 'S': 0.0}}"
      ]
     },
     "execution_count": 7,
     "metadata": {},
     "output_type": "execute_result"
    }
   ],
   "source": [
    "A_dic"
   ]
  },
  {
   "cell_type": "markdown",
   "metadata": {},
   "source": [
    "### 根据分完词的语料，生成标记序列"
   ]
  },
  {
   "cell_type": "code",
   "execution_count": 4,
   "metadata": {},
   "outputs": [],
   "source": [
    "def getList(input_str):\n",
    "    \"\"\"\n",
    "    根据分完词的语料，生成标记序列\n",
    "    :param input_str:分完词的语料\n",
    "    :return content: 标记序列\n",
    "    \"\"\"\n",
    "    outpout_str = []\n",
    "    if len(input_str) == 1:\n",
    "        outpout_str.append('S')\n",
    "    elif len(input_str) == 2:\n",
    "        outpout_str = ['B','E']\n",
    "    else:\n",
    "        M_num = len(input_str) -2\n",
    "        M_list = ['M'] * M_num\n",
    "        outpout_str.append('B')\n",
    "        outpout_str.extend(M_list)\n",
    "        outpout_str.append('S')\n",
    "    return outpout_str"
   ]
  },
  {
   "cell_type": "code",
   "execution_count": 5,
   "metadata": {},
   "outputs": [
    {
     "name": "stdout",
     "output_type": "stream",
     "text": [
      "len(word_set) = 3728 \n"
     ]
    }
   ],
   "source": [
    "def train():\n",
    "    global word_set\n",
    "    global line_num\n",
    "    init()\n",
    "    with open(INPUT_DATA, 'r', encoding='utf-8', errors='ignore') as f:\n",
    "        for line in f:\n",
    "            line = line.strip()#去除空格\n",
    "            if not line:#去除空行\n",
    "                continue\n",
    "            line_num += 1#记录有效行数\n",
    "            word_list = []#一条样本的词list\n",
    "            for i in range(len(line)):\n",
    "                if line[i] == \" \":#去除空格\n",
    "                    continue\n",
    "                word_list.append(line[i])\n",
    "            word_set = word_set | set(word_list)#将样本加入词集合\n",
    "\n",
    "            lineArr = line.split(\" \")#分词\n",
    "            \n",
    "            #获得每条样本的词标记\n",
    "            line_state = []\n",
    "            for item in lineArr:\n",
    "                line_state.extend(getList(item))\n",
    "            \n",
    "            if len(word_list) != len(line_state):#字的个数是否和标记序列的长度一致\n",
    "                print(\"[line_num = %d][line = %s]\" % (line_num, line))\n",
    "            else:\n",
    "                for i in range(len(line_state)):#遍历标记序列\n",
    "                    if i == 0:\n",
    "                        #统计：状态的初始概率\n",
    "                        Pi_dic[line_state[0]] += 1\n",
    "                        #统计：状态频率\n",
    "                        Count_dic[line_state[0]] += 1\n",
    "                    else:\n",
    "                        #统计：状态转移概率\n",
    "                        A_dic[line_state[i-1]][line_state[i]] += 1\n",
    "                        #统计：状态频率\n",
    "                        Count_dic[line_state[i]] += 1\n",
    "                        #统计：发射概率\n",
    "                        if word_list[i] in B_dic[line_state[i]]:\n",
    "                            B_dic[line_state[i]][word_list[i]] += 1\n",
    "                        else:\n",
    "                            B_dic[line_state[i]][word_list[i]] = 1.0\n",
    "    \n",
    "    #语料中所有的字数\n",
    "    print (\"len(word_set) = %s \" % (len(word_set)))\n",
    "    \n",
    "    #词频转换成概率\n",
    "    \n",
    "    #状态初始概率\n",
    "    for key in Pi_dic:\n",
    "        Pi_dic[key] = Pi_dic[key] * 1.0 / line_num\n",
    "\n",
    "    #状态转移概率\n",
    "    for key in A_dic:\n",
    "        for key1 in A_dic[key]:\n",
    "            A_dic[key][key1] = A_dic[key][key1] / Count_dic[key]\n",
    "\n",
    "    #发射概率\n",
    "    for key in B_dic:\n",
    "        for word in B_dic[key]:\n",
    "            B_dic[key][word] = B_dic[key][word] / Count_dic[key]\n",
    "train()"
   ]
  },
  {
   "cell_type": "markdown",
   "metadata": {},
   "source": [
    "### 查看初始状态"
   ]
  },
  {
   "cell_type": "code",
   "execution_count": 6,
   "metadata": {},
   "outputs": [
    {
     "data": {
      "text/plain": [
       "{'B': 0.5820149148537713, 'M': 0.0, 'E': 0.0, 'S': 0.41798844132394497}"
      ]
     },
     "execution_count": 6,
     "metadata": {},
     "output_type": "execute_result"
    }
   ],
   "source": [
    "Pi_dic"
   ]
  },
  {
   "cell_type": "markdown",
   "metadata": {},
   "source": [
    "### 查看状态转移矩阵"
   ]
  },
  {
   "cell_type": "code",
   "execution_count": 6,
   "metadata": {},
   "outputs": [
    {
     "data": {
      "text/plain": [
       "{'B': {'B': 0.0, 'M': 0.1167175117318146, 'E': 0.8832824882681853, 'S': 0.0},\n",
       " 'M': {'B': 0.0, 'M': 0.2777743117140081, 'E': 0.0, 'S': 0.7222256882859919},\n",
       " 'E': {'B': 0.46951648068515556, 'M': 0.0, 'E': 0.0, 'S': 0.5304835193148444},\n",
       " 'S': {'B': 0.3607655156767958, 'M': 0.0, 'E': 0.0, 'S': 0.47108435638736734}}"
      ]
     },
     "execution_count": 6,
     "metadata": {},
     "output_type": "execute_result"
    }
   ],
   "source": [
    "A_dic"
   ]
  },
  {
   "cell_type": "markdown",
   "metadata": {},
   "source": [
    "### 查看发射矩阵"
   ]
  },
  {
   "cell_type": "code",
   "execution_count": 7,
   "metadata": {
    "scrolled": true
   },
   "outputs": [
    {
     "data": {
      "text/plain": [
       "0.0017658937640616132"
      ]
     },
     "execution_count": 7,
     "metadata": {},
     "output_type": "execute_result"
    }
   ],
   "source": [
    "B_dic[\"B\"][\"没\"]"
   ]
  },
  {
   "cell_type": "markdown",
   "metadata": {},
   "source": [
    "### 维特比算法"
   ]
  },
  {
   "cell_type": "code",
   "execution_count": 8,
   "metadata": {},
   "outputs": [],
   "source": [
    "def viterbi(obs, states, start_p, trans_p, emit_p):\n",
    "    V = [{}]\n",
    "    path = {}#保存总路径\n",
    "    for y in states:\n",
    "        V[0][y] = start_p[y] * emit_p[y][obs[0]]\n",
    "        path[y] = [y]\n",
    "    for t in range(1,len(obs)):\n",
    "        V.append({})\n",
    "        newpath = {}#保存当前层的全部最优路径\n",
    "        \n",
    "        for y in states:#遍历当前层\n",
    "            prob = 0\n",
    "            for y0 in states:#遍历前一层\n",
    "                if V[t-1][y0]>0:\n",
    "                    if prob < V[t-1][y0] * trans_p[y0][y] * emit_p[y].get(obs[t],0):\n",
    "                        prob,state = V[t-1][y0] * trans_p[y0][y] * emit_p[y][obs[t]],y0\n",
    "            V[t][y] =prob\n",
    "            newpath[y] = path[state] + [y]\n",
    "        path = newpath\n",
    "        \n",
    "    (prob, state) = max([(V[len(obs) - 1][y], y) for y in states])\n",
    "    return (prob, path[state])"
   ]
  },
  {
   "cell_type": "markdown",
   "metadata": {},
   "source": [
    "### 分词"
   ]
  },
  {
   "cell_type": "code",
   "execution_count": 9,
   "metadata": {},
   "outputs": [],
   "source": [
    "def cut(sentence):\n",
    "    prob, pos_list =  viterbi(sentence,('B','M','E','S'), Pi_dic, A_dic, B_dic)\n",
    "    new_sentence = \"\"\n",
    "    index = 0\n",
    "    for i in range(len(pos_list)):\n",
    "        if pos_list[i] == \"S\":\n",
    "            new_sentence += sentence[i]\n",
    "            new_sentence += \"  \"\n",
    "        elif pos_list[i] == \"B\":\n",
    "            index = i\n",
    "        elif pos_list[i] == \"E\":\n",
    "            new_sentence += sentence[index:i+1]\n",
    "            new_sentence += \"  \"\n",
    "        else:\n",
    "            pass\n",
    " \n",
    "    return (prob,pos_list,new_sentence)"
   ]
  },
  {
   "cell_type": "markdown",
   "metadata": {},
   "source": [
    "### 测试"
   ]
  },
  {
   "cell_type": "code",
   "execution_count": 10,
   "metadata": {},
   "outputs": [
    {
     "name": "stdout",
     "output_type": "stream",
     "text": [
      "长春市长春节讲话。\n",
      "长春  市长  春节  讲话  。  \n",
      "['B', 'E', 'B', 'E', 'B', 'E', 'B', 'E', 'S']\n",
      "他说的确实在理.\n",
      "他  说  的  确实  在  理  .  \n",
      "['S', 'S', 'S', 'B', 'E', 'S', 'S', 'S']\n",
      "毛主席万岁。\n",
      "毛  主席  万  岁  。  \n",
      "['S', 'B', 'E', 'S', 'S', 'S']\n",
      "我有一台电脑。\n",
      "我有  一台  电脑  。  \n",
      "['B', 'E', 'B', 'E', 'B', 'E', 'S']\n"
     ]
    }
   ],
   "source": [
    "test_str = u\"长春市长春节讲话。\"\n",
    "prob,pos_list,cut_words = cut(test_str)\n",
    "print (test_str)\n",
    "print (cut_words)\n",
    "print (pos_list)\n",
    "\n",
    "test_str = u\"他说的确实在理.\"\n",
    "prob,pos_list,cut_words = cut(test_str)\n",
    "print (test_str)\n",
    "print (cut_words)\n",
    "print (pos_list)\n",
    "\n",
    "test_str = u\"毛主席万岁。\"\n",
    "prob,pos_list,cut_words = cut(test_str)\n",
    "print (test_str)\n",
    "print (cut_words)\n",
    "print (pos_list)\n",
    "\n",
    "test_str = u\"我有一台电脑。\"\n",
    "prob,pos_list,cut_words = cut(test_str)\n",
    "print (test_str)\n",
    "print (cut_words)\n",
    "print (pos_list)"
   ]
  }
 ],
 "metadata": {
  "kernelspec": {
   "display_name": "Python 3",
   "language": "python",
   "name": "python3"
  },
  "language_info": {
   "codemirror_mode": {
    "name": "ipython",
    "version": 3
   },
   "file_extension": ".py",
   "mimetype": "text/x-python",
   "name": "python",
   "nbconvert_exporter": "python",
   "pygments_lexer": "ipython3",
   "version": "3.6.4"
  }
 },
 "nbformat": 4,
 "nbformat_minor": 2
}
