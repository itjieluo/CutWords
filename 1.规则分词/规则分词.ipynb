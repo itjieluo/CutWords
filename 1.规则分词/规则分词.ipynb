{
 "cells": [
  {
   "cell_type": "markdown",
   "metadata": {},
   "source": [
    "# 正向最大匹配法"
   ]
  },
  {
   "cell_type": "code",
   "execution_count": 1,
   "metadata": {},
   "outputs": [
    {
     "name": "stdout",
     "output_type": "stream",
     "text": [
      "['南京市长', '江', '大桥']\n"
     ]
    }
   ],
   "source": [
    "#向最大匹配\n",
    "def read_word_dict(dic_path):\n",
    "    \"\"\"\n",
    "    加载词典，获取词典最长词的长度\n",
    "    :param dic_path:词典路径\n",
    "    :return dictionary,maximum: 词典，最大长度\n",
    "    \"\"\"\n",
    "    dictionary = set()\n",
    "    maximum = 0\n",
    "    #读取词典\n",
    "    with open(dic_path, 'r', encoding='utf8') as f:\n",
    "        for line in f:\n",
    "            line = line.strip()\n",
    "            if not line:\n",
    "                continue\n",
    "            dictionary.add(line)\n",
    "            if len(line) > maximum:\n",
    "                maximum = len(line)\n",
    "    return dictionary,maximum\n",
    "\n",
    "def FMM_cut(dic_path,text):\n",
    "    \"\"\"\n",
    "    正向最大匹配法分词\n",
    "    :param dic_path,text:词典路径,待分词文本\n",
    "    :return result: 分词结果\n",
    "    \"\"\"\n",
    "    dictionary, maximum = read_word_dict(dic_path)\n",
    "    result = []\n",
    "    index = len(text)\n",
    "    head = 0\n",
    "    while head < index:\n",
    "        word = None\n",
    "        for size in range(maximum, 0, -1):#最大匹配\n",
    "            if index - head < size:#剩余长度小于词长度，减小词长度再匹配\n",
    "                continue\n",
    "            piece = text[head:head+size]#正向匹配\n",
    "            if piece in dictionary:\n",
    "                word = piece\n",
    "                result.append(word)\n",
    "                head += size\n",
    "                break\n",
    "            if size == 1:\n",
    "                piece = text[head:head+size]\n",
    "                word = piece\n",
    "                result.append(word)\n",
    "                head += size\n",
    "        if word is None:\n",
    "            index -= 1\n",
    "    return result\n",
    "\n",
    "def main():\n",
    "    text = \"南京市长江大桥\"\n",
    "    \n",
    "    txt_cut = FMM_cut('./data/imm_dic.utf8',text)\n",
    "    \n",
    "    print(txt_cut)\n",
    "\n",
    "main()"
   ]
  },
  {
   "cell_type": "markdown",
   "metadata": {},
   "source": [
    "# 逆向最大匹配法"
   ]
  },
  {
   "cell_type": "code",
   "execution_count": 2,
   "metadata": {},
   "outputs": [
    {
     "name": "stdout",
     "output_type": "stream",
     "text": [
      "['南京市', '长江大桥']\n"
     ]
    }
   ],
   "source": [
    "#逆向最大匹配\n",
    "def read_word_dict(dic_path):\n",
    "    \"\"\"\n",
    "    加载词典，获取词典最长词的长度\n",
    "    :param dic_path:词典路径\n",
    "    :return dictionary,maximum: 词典，最大长度\n",
    "    \"\"\"\n",
    "    dictionary = set()\n",
    "    maximum = 0\n",
    "    #读取词典\n",
    "    with open(dic_path, 'r', encoding='utf8') as f:\n",
    "        for line in f:\n",
    "            line = line.strip()\n",
    "            if not line:\n",
    "                continue\n",
    "            dictionary.add(line)\n",
    "            if len(line) > maximum:\n",
    "                maximum = len(line)\n",
    "    return dictionary,maximum\n",
    "\n",
    "def RMM_cut(dic_path,text):\n",
    "    \"\"\"\n",
    "    逆向最大匹配法分词\n",
    "    :param dic_path,text:词典路径,待分词文本\n",
    "    :return result: 分词结果\n",
    "    \"\"\"\n",
    "    dictionary, maximum = read_word_dict(dic_path)\n",
    "    result = []\n",
    "    index = len(text)\n",
    "    while index > 0:\n",
    "        word = None\n",
    "        for size in range(maximum, 0, -1):#最大匹配\n",
    "            if index - size < 0:\n",
    "                continue\n",
    "            piece = text[(index - size):index]#逆向匹配\n",
    "            if piece in dictionary:\n",
    "                word = piece\n",
    "                result.append(word)\n",
    "                index -= size\n",
    "                break\n",
    "        if word is None:\n",
    "            index -= 1\n",
    "    return result[::-1]\n",
    "\n",
    "def main():\n",
    "    text = \"南京市长江大桥\"\n",
    "    \n",
    "    txt_cut = RMM_cut('./data/imm_dic.utf8',text)\n",
    "    \n",
    "    print(txt_cut)\n",
    "\n",
    "main()"
   ]
  },
  {
   "cell_type": "markdown",
   "metadata": {},
   "source": [
    "# 双向最大匹配法"
   ]
  },
  {
   "cell_type": "code",
   "execution_count": 3,
   "metadata": {},
   "outputs": [
    {
     "name": "stdout",
     "output_type": "stream",
     "text": [
      "['南京市', '长江大桥']\n"
     ]
    }
   ],
   "source": [
    "\n",
    "def BMM_cut(dic_path,text):\n",
    "    \"\"\"\n",
    "    双向最大匹配法分词\n",
    "    :param dic_path,text:词典路径,待分词文本\n",
    "    :return result: 分词结果\n",
    "    \"\"\"\n",
    "    rmm_txt_cut = RMM_cut(dic_path,text)#逆向最大匹配分词\n",
    "    fmm_txt_cut = FMM_cut(dic_path,text)#正向最大匹配分词\n",
    "\n",
    "    if len(fmm_txt_cut) < len(rmm_txt_cut):#词数切分最少的座位结果\n",
    "        return fmm_txt_cut\n",
    "    else:\n",
    "        return rmm_txt_cut\n",
    "def main():\n",
    "    text = \"南京市长江大桥\"\n",
    "    txt_cut = BMM_cut('./data/imm_dic.utf8',text)\n",
    "    print(txt_cut)\n",
    "main()"
   ]
  }
 ],
 "metadata": {
  "kernelspec": {
   "display_name": "Python 3",
   "language": "python",
   "name": "python3"
  },
  "language_info": {
   "codemirror_mode": {
    "name": "ipython",
    "version": 3
   },
   "file_extension": ".py",
   "mimetype": "text/x-python",
   "name": "python",
   "nbconvert_exporter": "python",
   "pygments_lexer": "ipython3",
   "version": "3.6.4"
  }
 },
 "nbformat": 4,
 "nbformat_minor": 2
}
